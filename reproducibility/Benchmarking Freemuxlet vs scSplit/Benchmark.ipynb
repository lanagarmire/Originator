{
 "cells": [
  {
   "cell_type": "code",
   "execution_count": 1,
   "id": "8532dae7",
   "metadata": {},
   "outputs": [],
   "source": [
    "scSplitresult<-read.csv(\"./subset/subsetscSplit/scSplit_result.csv\")"
   ]
  },
  {
   "cell_type": "code",
   "execution_count": 2,
   "id": "b7e77794",
   "metadata": {},
   "outputs": [],
   "source": [
    "scSplitresult<-as.data.frame(scSplitresult)"
   ]
  },
  {
   "cell_type": "code",
   "execution_count": 4,
   "id": "20f81583",
   "metadata": {},
   "outputs": [
    {
     "name": "stderr",
     "output_type": "stream",
     "text": [
      "Warning message:\n",
      "“package ‘dplyr’ was built under R version 4.3.2”\n",
      "\n",
      "Attaching package: ‘dplyr’\n",
      "\n",
      "\n",
      "The following objects are masked from ‘package:stats’:\n",
      "\n",
      "    filter, lag\n",
      "\n",
      "\n",
      "The following objects are masked from ‘package:base’:\n",
      "\n",
      "    intersect, setdiff, setequal, union\n",
      "\n",
      "\n"
     ]
    }
   ],
   "source": [
    "library(tidyr)\n",
    "library(dplyr)\n",
    "scSplitresult<-scSplitresult %>%\n",
    "        separate(Barcode.Cluster,into=c(\"Barcode\",\"Group\"),sep='\\t')"
   ]
  },
  {
   "cell_type": "code",
   "execution_count": 1,
   "id": "7574409c",
   "metadata": {},
   "outputs": [],
   "source": [
    "groundtruth_Ipi<-read.table(\"./comparebarcode/Ipi_selected.txt\")\n",
    "groundtruth_Nivo<-read.table(\"./comparebarcode/Nivo_selected.txt\")"
   ]
  },
  {
   "cell_type": "code",
   "execution_count": 2,
   "id": "c7d75177",
   "metadata": {},
   "outputs": [],
   "source": [
    "Ipi<-data.frame(barcode=groundtruth_Ipi,TRUTH=rep(\"Ipi\",length(groundtruth_Ipi)))\n",
    "Nivo<-data.frame(barcode=groundtruth_Nivo,TRUTH=rep(\"Nivo\",length(groundtruth_Nivo)))"
   ]
  },
  {
   "cell_type": "code",
   "execution_count": 3,
   "id": "7459f4f2",
   "metadata": {},
   "outputs": [],
   "source": [
    "colnames(Ipi)[1]=\"barcode\"\n",
    "colnames(Nivo)[1]=\"barcode\""
   ]
  },
  {
   "cell_type": "code",
   "execution_count": 4,
   "id": "2b4ac8aa",
   "metadata": {},
   "outputs": [],
   "source": [
    "Truth<-rbind(Ipi,Nivo)"
   ]
  },
  {
   "cell_type": "code",
   "execution_count": 20,
   "id": "5ddc1101",
   "metadata": {},
   "outputs": [],
   "source": [
    "merged_df <- merge(scSplitresult, Truth, by.x = \"Barcode\", by.y = \"barcode\")"
   ]
  },
  {
   "cell_type": "code",
   "execution_count": 21,
   "id": "b9e59c91",
   "metadata": {
    "scrolled": true
   },
   "outputs": [
    {
     "data": {
      "text/html": [
       "<table class=\"dataframe\">\n",
       "<caption>A data.frame: 395 × 3</caption>\n",
       "<thead>\n",
       "\t<tr><th scope=col>Barcode</th><th scope=col>Group</th><th scope=col>TRUTH</th></tr>\n",
       "\t<tr><th scope=col>&lt;chr&gt;</th><th scope=col>&lt;chr&gt;</th><th scope=col>&lt;chr&gt;</th></tr>\n",
       "</thead>\n",
       "<tbody>\n",
       "\t<tr><td>AAACGGGTCGGTGTCG-1</td><td>SNG-0</td><td>Nivo</td></tr>\n",
       "\t<tr><td>AAAGTAGCACCTATCC-1</td><td>SNG-0</td><td>Ipi </td></tr>\n",
       "\t<tr><td>AACACGTCATCACGAT-1</td><td>SNG-1</td><td>Ipi </td></tr>\n",
       "\t<tr><td>AACCATGAGACTTTCG-1</td><td>SNG-0</td><td>Ipi </td></tr>\n",
       "\t<tr><td>AACTCAGCAACACCTA-1</td><td>SNG-1</td><td>Nivo</td></tr>\n",
       "\t<tr><td>AACTCTTAGGAGTAGA-1</td><td>SNG-0</td><td>Ipi </td></tr>\n",
       "\t<tr><td>AACTCTTTCAATCACG-1</td><td>SNG-0</td><td>Ipi </td></tr>\n",
       "\t<tr><td>AACTCTTTCAGGTTCA-1</td><td>SNG-0</td><td>Ipi </td></tr>\n",
       "\t<tr><td>AACTGGTAGAAACCAT-1</td><td>SNG-1</td><td>Nivo</td></tr>\n",
       "\t<tr><td>AACTGGTGTACTCTCC-1</td><td>SNG-0</td><td>Ipi </td></tr>\n",
       "\t<tr><td>AACTTTCTCTGAGTGT-1</td><td>SNG-1</td><td>Ipi </td></tr>\n",
       "\t<tr><td>AAGACCTAGAAACCAT-1</td><td>SNG-1</td><td>Ipi </td></tr>\n",
       "\t<tr><td>AAGGCAGTCCTCAACC-1</td><td>SNG-0</td><td>Ipi </td></tr>\n",
       "\t<tr><td>AAGGTTCGTTCCTCCA-1</td><td>SNG-1</td><td>Nivo</td></tr>\n",
       "\t<tr><td>AATCCAGCAGCGTAAG-1</td><td>SNG-0</td><td>Nivo</td></tr>\n",
       "\t<tr><td>AATCCAGTCGCTAGCG-1</td><td>SNG-1</td><td>Nivo</td></tr>\n",
       "\t<tr><td>AATCGGTTCATCTGCC-1</td><td>SNG-0</td><td>Nivo</td></tr>\n",
       "\t<tr><td>ACACCAACAGGCGATA-1</td><td>SNG-1</td><td>Nivo</td></tr>\n",
       "\t<tr><td>ACACCCTTCCTTTCGG-1</td><td>SNG-0</td><td>Ipi </td></tr>\n",
       "\t<tr><td>ACACCGGGTCTCGTTC-1</td><td>SNG-0</td><td>Ipi </td></tr>\n",
       "\t<tr><td>ACACTGATCACGGTTA-1</td><td>SNG-0</td><td>Nivo</td></tr>\n",
       "\t<tr><td>ACAGCTATCTATCCTA-1</td><td>SNG-0</td><td>Ipi </td></tr>\n",
       "\t<tr><td>ACATACGTCACAAACC-1</td><td>SNG-0</td><td>Ipi </td></tr>\n",
       "\t<tr><td>ACCAGTATCTGGAGCC-1</td><td>SNG-0</td><td>Nivo</td></tr>\n",
       "\t<tr><td>ACCCACTAGAATGTGT-1</td><td>SNG-0</td><td>Nivo</td></tr>\n",
       "\t<tr><td>ACCCACTCATCATCCC-1</td><td>SNG-1</td><td>Nivo</td></tr>\n",
       "\t<tr><td>ACCGTAAGTACCGAGA-1</td><td>SNG-1</td><td>Nivo</td></tr>\n",
       "\t<tr><td>ACGAGCCGTCACAAGG-1</td><td>SNG-0</td><td>Nivo</td></tr>\n",
       "\t<tr><td>ACGAGGATCCTACAGA-1</td><td>SNG-1</td><td>Nivo</td></tr>\n",
       "\t<tr><td>ACGCCAGGTCTCTTTA-1</td><td>SNG-0</td><td>Ipi </td></tr>\n",
       "\t<tr><td>⋮</td><td>⋮</td><td>⋮</td></tr>\n",
       "\t<tr><td>TTAGGACAGAGACTAT-1</td><td>SNG-1</td><td>Nivo</td></tr>\n",
       "\t<tr><td>TTAGGACCACATGGGA-1</td><td>SNG-0</td><td>Nivo</td></tr>\n",
       "\t<tr><td>TTAGGACCAGTAAGCG-1</td><td>SNG-1</td><td>Nivo</td></tr>\n",
       "\t<tr><td>TTAGGACCATCAGTCA-1</td><td>SNG-0</td><td>Nivo</td></tr>\n",
       "\t<tr><td>TTAGTTCCATAGAAAC-1</td><td>SNG-1</td><td>Nivo</td></tr>\n",
       "\t<tr><td>TTATGCTCAGTAAGAT-1</td><td>SNG-1</td><td>Ipi </td></tr>\n",
       "\t<tr><td>TTCCCAGAGTGAAGTT-1</td><td>SNG-0</td><td>Ipi </td></tr>\n",
       "\t<tr><td>TTCCCAGCAGGTGCCT-1</td><td>SNG-0</td><td>Ipi </td></tr>\n",
       "\t<tr><td>TTCGAAGAGGCACATG-1</td><td>SNG-0</td><td>Ipi </td></tr>\n",
       "\t<tr><td>TTCGGTCGTATGAATG-1</td><td>SNG-0</td><td>Nivo</td></tr>\n",
       "\t<tr><td>TTCTACAGTCGAGATG-1</td><td>SNG-0</td><td>Ipi </td></tr>\n",
       "\t<tr><td>TTCTACATCTTAACCT-1</td><td>SNG-1</td><td>Nivo</td></tr>\n",
       "\t<tr><td>TTCTCCTGTGCTAGCC-1</td><td>SNG-0</td><td>Ipi </td></tr>\n",
       "\t<tr><td>TTCTCCTTCCAAACAC-1</td><td>SNG-0</td><td>Ipi </td></tr>\n",
       "\t<tr><td>TTCTTAGCAGCGTCCA-1</td><td>SNG-0</td><td>Ipi </td></tr>\n",
       "\t<tr><td>TTGAACGCATACCATG-1</td><td>SNG-1</td><td>Ipi </td></tr>\n",
       "\t<tr><td>TTGACTTAGGTGCACA-1</td><td>SNG-0</td><td>Nivo</td></tr>\n",
       "\t<tr><td>TTGACTTTCCTTGGTC-1</td><td>SNG-1</td><td>Nivo</td></tr>\n",
       "\t<tr><td>TTGACTTTCTAGAGTC-1</td><td>SNG-1</td><td>Nivo</td></tr>\n",
       "\t<tr><td>TTGCCGTTCATCGATG-1</td><td>SNG-1</td><td>Nivo</td></tr>\n",
       "\t<tr><td>TTGCGTCAGGAGTTTA-1</td><td>SNG-1</td><td>Nivo</td></tr>\n",
       "\t<tr><td>TTGCGTCTCAACCAAC-1</td><td>SNG-1</td><td>Nivo</td></tr>\n",
       "\t<tr><td>TTGGCAAAGCAATATG-1</td><td>SNG-0</td><td>Ipi </td></tr>\n",
       "\t<tr><td>TTGGCAATCAGCTTAG-1</td><td>SNG-0</td><td>Nivo</td></tr>\n",
       "\t<tr><td>TTGTAGGCAGCGAACA-1</td><td>SNG-1</td><td>Ipi </td></tr>\n",
       "\t<tr><td>TTTACTGAGAGGTACC-1</td><td>SNG-1</td><td>Nivo</td></tr>\n",
       "\t<tr><td>TTTACTGCAGGGATTG-1</td><td>SNG-1</td><td>Ipi </td></tr>\n",
       "\t<tr><td>TTTCCTCGTTCAGCGC-1</td><td>SNG-1</td><td>Nivo</td></tr>\n",
       "\t<tr><td>TTTGGTTCAAATCCGT-1</td><td>SNG-1</td><td>Nivo</td></tr>\n",
       "\t<tr><td>TTTGTCACAGATGAGC-1</td><td>SNG-0</td><td>Ipi </td></tr>\n",
       "</tbody>\n",
       "</table>\n"
      ],
      "text/latex": [
       "A data.frame: 395 × 3\n",
       "\\begin{tabular}{lll}\n",
       " Barcode & Group & TRUTH\\\\\n",
       " <chr> & <chr> & <chr>\\\\\n",
       "\\hline\n",
       "\t AAACGGGTCGGTGTCG-1 & SNG-0 & Nivo\\\\\n",
       "\t AAAGTAGCACCTATCC-1 & SNG-0 & Ipi \\\\\n",
       "\t AACACGTCATCACGAT-1 & SNG-1 & Ipi \\\\\n",
       "\t AACCATGAGACTTTCG-1 & SNG-0 & Ipi \\\\\n",
       "\t AACTCAGCAACACCTA-1 & SNG-1 & Nivo\\\\\n",
       "\t AACTCTTAGGAGTAGA-1 & SNG-0 & Ipi \\\\\n",
       "\t AACTCTTTCAATCACG-1 & SNG-0 & Ipi \\\\\n",
       "\t AACTCTTTCAGGTTCA-1 & SNG-0 & Ipi \\\\\n",
       "\t AACTGGTAGAAACCAT-1 & SNG-1 & Nivo\\\\\n",
       "\t AACTGGTGTACTCTCC-1 & SNG-0 & Ipi \\\\\n",
       "\t AACTTTCTCTGAGTGT-1 & SNG-1 & Ipi \\\\\n",
       "\t AAGACCTAGAAACCAT-1 & SNG-1 & Ipi \\\\\n",
       "\t AAGGCAGTCCTCAACC-1 & SNG-0 & Ipi \\\\\n",
       "\t AAGGTTCGTTCCTCCA-1 & SNG-1 & Nivo\\\\\n",
       "\t AATCCAGCAGCGTAAG-1 & SNG-0 & Nivo\\\\\n",
       "\t AATCCAGTCGCTAGCG-1 & SNG-1 & Nivo\\\\\n",
       "\t AATCGGTTCATCTGCC-1 & SNG-0 & Nivo\\\\\n",
       "\t ACACCAACAGGCGATA-1 & SNG-1 & Nivo\\\\\n",
       "\t ACACCCTTCCTTTCGG-1 & SNG-0 & Ipi \\\\\n",
       "\t ACACCGGGTCTCGTTC-1 & SNG-0 & Ipi \\\\\n",
       "\t ACACTGATCACGGTTA-1 & SNG-0 & Nivo\\\\\n",
       "\t ACAGCTATCTATCCTA-1 & SNG-0 & Ipi \\\\\n",
       "\t ACATACGTCACAAACC-1 & SNG-0 & Ipi \\\\\n",
       "\t ACCAGTATCTGGAGCC-1 & SNG-0 & Nivo\\\\\n",
       "\t ACCCACTAGAATGTGT-1 & SNG-0 & Nivo\\\\\n",
       "\t ACCCACTCATCATCCC-1 & SNG-1 & Nivo\\\\\n",
       "\t ACCGTAAGTACCGAGA-1 & SNG-1 & Nivo\\\\\n",
       "\t ACGAGCCGTCACAAGG-1 & SNG-0 & Nivo\\\\\n",
       "\t ACGAGGATCCTACAGA-1 & SNG-1 & Nivo\\\\\n",
       "\t ACGCCAGGTCTCTTTA-1 & SNG-0 & Ipi \\\\\n",
       "\t ⋮ & ⋮ & ⋮\\\\\n",
       "\t TTAGGACAGAGACTAT-1 & SNG-1 & Nivo\\\\\n",
       "\t TTAGGACCACATGGGA-1 & SNG-0 & Nivo\\\\\n",
       "\t TTAGGACCAGTAAGCG-1 & SNG-1 & Nivo\\\\\n",
       "\t TTAGGACCATCAGTCA-1 & SNG-0 & Nivo\\\\\n",
       "\t TTAGTTCCATAGAAAC-1 & SNG-1 & Nivo\\\\\n",
       "\t TTATGCTCAGTAAGAT-1 & SNG-1 & Ipi \\\\\n",
       "\t TTCCCAGAGTGAAGTT-1 & SNG-0 & Ipi \\\\\n",
       "\t TTCCCAGCAGGTGCCT-1 & SNG-0 & Ipi \\\\\n",
       "\t TTCGAAGAGGCACATG-1 & SNG-0 & Ipi \\\\\n",
       "\t TTCGGTCGTATGAATG-1 & SNG-0 & Nivo\\\\\n",
       "\t TTCTACAGTCGAGATG-1 & SNG-0 & Ipi \\\\\n",
       "\t TTCTACATCTTAACCT-1 & SNG-1 & Nivo\\\\\n",
       "\t TTCTCCTGTGCTAGCC-1 & SNG-0 & Ipi \\\\\n",
       "\t TTCTCCTTCCAAACAC-1 & SNG-0 & Ipi \\\\\n",
       "\t TTCTTAGCAGCGTCCA-1 & SNG-0 & Ipi \\\\\n",
       "\t TTGAACGCATACCATG-1 & SNG-1 & Ipi \\\\\n",
       "\t TTGACTTAGGTGCACA-1 & SNG-0 & Nivo\\\\\n",
       "\t TTGACTTTCCTTGGTC-1 & SNG-1 & Nivo\\\\\n",
       "\t TTGACTTTCTAGAGTC-1 & SNG-1 & Nivo\\\\\n",
       "\t TTGCCGTTCATCGATG-1 & SNG-1 & Nivo\\\\\n",
       "\t TTGCGTCAGGAGTTTA-1 & SNG-1 & Nivo\\\\\n",
       "\t TTGCGTCTCAACCAAC-1 & SNG-1 & Nivo\\\\\n",
       "\t TTGGCAAAGCAATATG-1 & SNG-0 & Ipi \\\\\n",
       "\t TTGGCAATCAGCTTAG-1 & SNG-0 & Nivo\\\\\n",
       "\t TTGTAGGCAGCGAACA-1 & SNG-1 & Ipi \\\\\n",
       "\t TTTACTGAGAGGTACC-1 & SNG-1 & Nivo\\\\\n",
       "\t TTTACTGCAGGGATTG-1 & SNG-1 & Ipi \\\\\n",
       "\t TTTCCTCGTTCAGCGC-1 & SNG-1 & Nivo\\\\\n",
       "\t TTTGGTTCAAATCCGT-1 & SNG-1 & Nivo\\\\\n",
       "\t TTTGTCACAGATGAGC-1 & SNG-0 & Ipi \\\\\n",
       "\\end{tabular}\n"
      ],
      "text/markdown": [
       "\n",
       "A data.frame: 395 × 3\n",
       "\n",
       "| Barcode &lt;chr&gt; | Group &lt;chr&gt; | TRUTH &lt;chr&gt; |\n",
       "|---|---|---|\n",
       "| AAACGGGTCGGTGTCG-1 | SNG-0 | Nivo |\n",
       "| AAAGTAGCACCTATCC-1 | SNG-0 | Ipi  |\n",
       "| AACACGTCATCACGAT-1 | SNG-1 | Ipi  |\n",
       "| AACCATGAGACTTTCG-1 | SNG-0 | Ipi  |\n",
       "| AACTCAGCAACACCTA-1 | SNG-1 | Nivo |\n",
       "| AACTCTTAGGAGTAGA-1 | SNG-0 | Ipi  |\n",
       "| AACTCTTTCAATCACG-1 | SNG-0 | Ipi  |\n",
       "| AACTCTTTCAGGTTCA-1 | SNG-0 | Ipi  |\n",
       "| AACTGGTAGAAACCAT-1 | SNG-1 | Nivo |\n",
       "| AACTGGTGTACTCTCC-1 | SNG-0 | Ipi  |\n",
       "| AACTTTCTCTGAGTGT-1 | SNG-1 | Ipi  |\n",
       "| AAGACCTAGAAACCAT-1 | SNG-1 | Ipi  |\n",
       "| AAGGCAGTCCTCAACC-1 | SNG-0 | Ipi  |\n",
       "| AAGGTTCGTTCCTCCA-1 | SNG-1 | Nivo |\n",
       "| AATCCAGCAGCGTAAG-1 | SNG-0 | Nivo |\n",
       "| AATCCAGTCGCTAGCG-1 | SNG-1 | Nivo |\n",
       "| AATCGGTTCATCTGCC-1 | SNG-0 | Nivo |\n",
       "| ACACCAACAGGCGATA-1 | SNG-1 | Nivo |\n",
       "| ACACCCTTCCTTTCGG-1 | SNG-0 | Ipi  |\n",
       "| ACACCGGGTCTCGTTC-1 | SNG-0 | Ipi  |\n",
       "| ACACTGATCACGGTTA-1 | SNG-0 | Nivo |\n",
       "| ACAGCTATCTATCCTA-1 | SNG-0 | Ipi  |\n",
       "| ACATACGTCACAAACC-1 | SNG-0 | Ipi  |\n",
       "| ACCAGTATCTGGAGCC-1 | SNG-0 | Nivo |\n",
       "| ACCCACTAGAATGTGT-1 | SNG-0 | Nivo |\n",
       "| ACCCACTCATCATCCC-1 | SNG-1 | Nivo |\n",
       "| ACCGTAAGTACCGAGA-1 | SNG-1 | Nivo |\n",
       "| ACGAGCCGTCACAAGG-1 | SNG-0 | Nivo |\n",
       "| ACGAGGATCCTACAGA-1 | SNG-1 | Nivo |\n",
       "| ACGCCAGGTCTCTTTA-1 | SNG-0 | Ipi  |\n",
       "| ⋮ | ⋮ | ⋮ |\n",
       "| TTAGGACAGAGACTAT-1 | SNG-1 | Nivo |\n",
       "| TTAGGACCACATGGGA-1 | SNG-0 | Nivo |\n",
       "| TTAGGACCAGTAAGCG-1 | SNG-1 | Nivo |\n",
       "| TTAGGACCATCAGTCA-1 | SNG-0 | Nivo |\n",
       "| TTAGTTCCATAGAAAC-1 | SNG-1 | Nivo |\n",
       "| TTATGCTCAGTAAGAT-1 | SNG-1 | Ipi  |\n",
       "| TTCCCAGAGTGAAGTT-1 | SNG-0 | Ipi  |\n",
       "| TTCCCAGCAGGTGCCT-1 | SNG-0 | Ipi  |\n",
       "| TTCGAAGAGGCACATG-1 | SNG-0 | Ipi  |\n",
       "| TTCGGTCGTATGAATG-1 | SNG-0 | Nivo |\n",
       "| TTCTACAGTCGAGATG-1 | SNG-0 | Ipi  |\n",
       "| TTCTACATCTTAACCT-1 | SNG-1 | Nivo |\n",
       "| TTCTCCTGTGCTAGCC-1 | SNG-0 | Ipi  |\n",
       "| TTCTCCTTCCAAACAC-1 | SNG-0 | Ipi  |\n",
       "| TTCTTAGCAGCGTCCA-1 | SNG-0 | Ipi  |\n",
       "| TTGAACGCATACCATG-1 | SNG-1 | Ipi  |\n",
       "| TTGACTTAGGTGCACA-1 | SNG-0 | Nivo |\n",
       "| TTGACTTTCCTTGGTC-1 | SNG-1 | Nivo |\n",
       "| TTGACTTTCTAGAGTC-1 | SNG-1 | Nivo |\n",
       "| TTGCCGTTCATCGATG-1 | SNG-1 | Nivo |\n",
       "| TTGCGTCAGGAGTTTA-1 | SNG-1 | Nivo |\n",
       "| TTGCGTCTCAACCAAC-1 | SNG-1 | Nivo |\n",
       "| TTGGCAAAGCAATATG-1 | SNG-0 | Ipi  |\n",
       "| TTGGCAATCAGCTTAG-1 | SNG-0 | Nivo |\n",
       "| TTGTAGGCAGCGAACA-1 | SNG-1 | Ipi  |\n",
       "| TTTACTGAGAGGTACC-1 | SNG-1 | Nivo |\n",
       "| TTTACTGCAGGGATTG-1 | SNG-1 | Ipi  |\n",
       "| TTTCCTCGTTCAGCGC-1 | SNG-1 | Nivo |\n",
       "| TTTGGTTCAAATCCGT-1 | SNG-1 | Nivo |\n",
       "| TTTGTCACAGATGAGC-1 | SNG-0 | Ipi  |\n",
       "\n"
      ],
      "text/plain": [
       "    Barcode            Group TRUTH\n",
       "1   AAACGGGTCGGTGTCG-1 SNG-0 Nivo \n",
       "2   AAAGTAGCACCTATCC-1 SNG-0 Ipi  \n",
       "3   AACACGTCATCACGAT-1 SNG-1 Ipi  \n",
       "4   AACCATGAGACTTTCG-1 SNG-0 Ipi  \n",
       "5   AACTCAGCAACACCTA-1 SNG-1 Nivo \n",
       "6   AACTCTTAGGAGTAGA-1 SNG-0 Ipi  \n",
       "7   AACTCTTTCAATCACG-1 SNG-0 Ipi  \n",
       "8   AACTCTTTCAGGTTCA-1 SNG-0 Ipi  \n",
       "9   AACTGGTAGAAACCAT-1 SNG-1 Nivo \n",
       "10  AACTGGTGTACTCTCC-1 SNG-0 Ipi  \n",
       "11  AACTTTCTCTGAGTGT-1 SNG-1 Ipi  \n",
       "12  AAGACCTAGAAACCAT-1 SNG-1 Ipi  \n",
       "13  AAGGCAGTCCTCAACC-1 SNG-0 Ipi  \n",
       "14  AAGGTTCGTTCCTCCA-1 SNG-1 Nivo \n",
       "15  AATCCAGCAGCGTAAG-1 SNG-0 Nivo \n",
       "16  AATCCAGTCGCTAGCG-1 SNG-1 Nivo \n",
       "17  AATCGGTTCATCTGCC-1 SNG-0 Nivo \n",
       "18  ACACCAACAGGCGATA-1 SNG-1 Nivo \n",
       "19  ACACCCTTCCTTTCGG-1 SNG-0 Ipi  \n",
       "20  ACACCGGGTCTCGTTC-1 SNG-0 Ipi  \n",
       "21  ACACTGATCACGGTTA-1 SNG-0 Nivo \n",
       "22  ACAGCTATCTATCCTA-1 SNG-0 Ipi  \n",
       "23  ACATACGTCACAAACC-1 SNG-0 Ipi  \n",
       "24  ACCAGTATCTGGAGCC-1 SNG-0 Nivo \n",
       "25  ACCCACTAGAATGTGT-1 SNG-0 Nivo \n",
       "26  ACCCACTCATCATCCC-1 SNG-1 Nivo \n",
       "27  ACCGTAAGTACCGAGA-1 SNG-1 Nivo \n",
       "28  ACGAGCCGTCACAAGG-1 SNG-0 Nivo \n",
       "29  ACGAGGATCCTACAGA-1 SNG-1 Nivo \n",
       "30  ACGCCAGGTCTCTTTA-1 SNG-0 Ipi  \n",
       "⋮   ⋮                  ⋮     ⋮    \n",
       "366 TTAGGACAGAGACTAT-1 SNG-1 Nivo \n",
       "367 TTAGGACCACATGGGA-1 SNG-0 Nivo \n",
       "368 TTAGGACCAGTAAGCG-1 SNG-1 Nivo \n",
       "369 TTAGGACCATCAGTCA-1 SNG-0 Nivo \n",
       "370 TTAGTTCCATAGAAAC-1 SNG-1 Nivo \n",
       "371 TTATGCTCAGTAAGAT-1 SNG-1 Ipi  \n",
       "372 TTCCCAGAGTGAAGTT-1 SNG-0 Ipi  \n",
       "373 TTCCCAGCAGGTGCCT-1 SNG-0 Ipi  \n",
       "374 TTCGAAGAGGCACATG-1 SNG-0 Ipi  \n",
       "375 TTCGGTCGTATGAATG-1 SNG-0 Nivo \n",
       "376 TTCTACAGTCGAGATG-1 SNG-0 Ipi  \n",
       "377 TTCTACATCTTAACCT-1 SNG-1 Nivo \n",
       "378 TTCTCCTGTGCTAGCC-1 SNG-0 Ipi  \n",
       "379 TTCTCCTTCCAAACAC-1 SNG-0 Ipi  \n",
       "380 TTCTTAGCAGCGTCCA-1 SNG-0 Ipi  \n",
       "381 TTGAACGCATACCATG-1 SNG-1 Ipi  \n",
       "382 TTGACTTAGGTGCACA-1 SNG-0 Nivo \n",
       "383 TTGACTTTCCTTGGTC-1 SNG-1 Nivo \n",
       "384 TTGACTTTCTAGAGTC-1 SNG-1 Nivo \n",
       "385 TTGCCGTTCATCGATG-1 SNG-1 Nivo \n",
       "386 TTGCGTCAGGAGTTTA-1 SNG-1 Nivo \n",
       "387 TTGCGTCTCAACCAAC-1 SNG-1 Nivo \n",
       "388 TTGGCAAAGCAATATG-1 SNG-0 Ipi  \n",
       "389 TTGGCAATCAGCTTAG-1 SNG-0 Nivo \n",
       "390 TTGTAGGCAGCGAACA-1 SNG-1 Ipi  \n",
       "391 TTTACTGAGAGGTACC-1 SNG-1 Nivo \n",
       "392 TTTACTGCAGGGATTG-1 SNG-1 Ipi  \n",
       "393 TTTCCTCGTTCAGCGC-1 SNG-1 Nivo \n",
       "394 TTTGGTTCAAATCCGT-1 SNG-1 Nivo \n",
       "395 TTTGTCACAGATGAGC-1 SNG-0 Ipi  "
      ]
     },
     "metadata": {},
     "output_type": "display_data"
    }
   ],
   "source": [
    "merged_df"
   ]
  },
  {
   "cell_type": "code",
   "execution_count": 23,
   "id": "39ffdb35",
   "metadata": {},
   "outputs": [
    {
     "data": {
      "text/plain": [
       "\n",
       "SNG-0 SNG-1 \n",
       "   54   145 "
      ]
     },
     "metadata": {},
     "output_type": "display_data"
    }
   ],
   "source": [
    "table(merged_df[merged_df$TRUTH==\"Nivo\",]$Group)"
   ]
  },
  {
   "cell_type": "code",
   "execution_count": 24,
   "id": "f4131773",
   "metadata": {},
   "outputs": [
    {
     "data": {
      "text/plain": [
       "\n",
       "SNG-0 SNG-1 \n",
       "  146    50 "
      ]
     },
     "metadata": {},
     "output_type": "display_data"
    }
   ],
   "source": [
    "table(merged_df[merged_df$TRUTH==\"Ipi\",]$Group)"
   ]
  },
  {
   "cell_type": "code",
   "execution_count": null,
   "id": "d2943584",
   "metadata": {},
   "outputs": [],
   "source": [
    "#Set the prediction of scSplit SNG-1 as Nivo, SNG-0 as Ipi"
   ]
  },
  {
   "cell_type": "code",
   "execution_count": 33,
   "id": "7519b1f4",
   "metadata": {},
   "outputs": [],
   "source": [
    "merged_df$pred<-ifelse(merged_df$Group==\"SNG-0\",0,1)\n",
    "merged_df$ground<-ifelse(merged_df$TRUTH==\"Ipi\",0,1)"
   ]
  },
  {
   "cell_type": "code",
   "execution_count": 29,
   "id": "01fd060b",
   "metadata": {
    "scrolled": true
   },
   "outputs": [
    {
     "data": {
      "text/plain": [
       "\n",
       "  0   1 \n",
       "200 195 "
      ]
     },
     "metadata": {},
     "output_type": "display_data"
    }
   ],
   "source": [
    "table(merged_df$pred)"
   ]
  },
  {
   "cell_type": "code",
   "execution_count": 36,
   "id": "11993a02",
   "metadata": {},
   "outputs": [
    {
     "data": {
      "text/plain": [
       "\n",
       "  0   1 \n",
       "196 199 "
      ]
     },
     "metadata": {},
     "output_type": "display_data"
    }
   ],
   "source": [
    "table(merged_df$ground)"
   ]
  },
  {
   "cell_type": "code",
   "execution_count": 40,
   "id": "7cce42f4",
   "metadata": {},
   "outputs": [],
   "source": [
    "merged_df$pred<-as.factor(merged_df$pred)\n",
    "merged_df$ground<-as.factor(merged_df$ground)"
   ]
  },
  {
   "cell_type": "code",
   "execution_count": 41,
   "id": "dbf68d88",
   "metadata": {
    "scrolled": true
   },
   "outputs": [
    {
     "data": {
      "text/plain": [
       "Confusion Matrix and Statistics\n",
       "\n",
       "          Reference\n",
       "Prediction   0   1\n",
       "         0 146  54\n",
       "         1  50 145\n",
       "                                          \n",
       "               Accuracy : 0.7367          \n",
       "                 95% CI : (0.6903, 0.7795)\n",
       "    No Information Rate : 0.5038          \n",
       "    P-Value [Acc > NIR] : <2e-16          \n",
       "                                          \n",
       "                  Kappa : 0.4735          \n",
       "                                          \n",
       " Mcnemar's Test P-Value : 0.7686          \n",
       "                                          \n",
       "            Sensitivity : 0.7286          \n",
       "            Specificity : 0.7449          \n",
       "         Pos Pred Value : 0.7436          \n",
       "         Neg Pred Value : 0.7300          \n",
       "              Precision : 0.7436          \n",
       "                 Recall : 0.7286          \n",
       "                     F1 : 0.7360          \n",
       "             Prevalence : 0.5038          \n",
       "         Detection Rate : 0.3671          \n",
       "   Detection Prevalence : 0.4937          \n",
       "      Balanced Accuracy : 0.7368          \n",
       "                                          \n",
       "       'Positive' Class : 1               \n",
       "                                          "
      ]
     },
     "metadata": {},
     "output_type": "display_data"
    }
   ],
   "source": [
    "library(caret)\n",
    "confusionMatrix(merged_df$pred, merged_df$ground, mode = \"everything\", positive=\"1\")"
   ]
  },
  {
   "cell_type": "code",
   "execution_count": 8,
   "id": "a75857e3",
   "metadata": {},
   "outputs": [],
   "source": [
    "# Do it for freemuxlet result\n",
    "library(data.table)"
   ]
  },
  {
   "cell_type": "code",
   "execution_count": 9,
   "id": "66806e3b",
   "metadata": {},
   "outputs": [],
   "source": [
    "freemux_combine<-fread(\"./subset/freemuxlet/subset_freemuxlet.pooled.clust1.samples.gz\")"
   ]
  },
  {
   "cell_type": "code",
   "execution_count": 11,
   "id": "3d977592",
   "metadata": {},
   "outputs": [],
   "source": [
    "freemux_combine<-as.data.frame(freemux_combine)"
   ]
  },
  {
   "cell_type": "code",
   "execution_count": 14,
   "id": "509de790",
   "metadata": {},
   "outputs": [],
   "source": [
    "freemux_sel<-freemux_combine[,c(\"BARCODE\",\"SNG.BEST.GUESS\",\"DROPLET.TYPE\")]"
   ]
  },
  {
   "cell_type": "code",
   "execution_count": 16,
   "id": "ebd05fa9",
   "metadata": {},
   "outputs": [
    {
     "data": {
      "text/plain": [
       "\n",
       "SNG \n",
       "400 "
      ]
     },
     "metadata": {},
     "output_type": "display_data"
    }
   ],
   "source": [
    "table(freemux_sel$DROPLET.TYPE)"
   ]
  },
  {
   "cell_type": "code",
   "execution_count": 17,
   "id": "a41ce468",
   "metadata": {},
   "outputs": [],
   "source": [
    "merged_freemux<-merge(freemux_sel,Truth,by.x=\"BARCODE\",by.y=\"barcode\")"
   ]
  },
  {
   "cell_type": "code",
   "execution_count": 18,
   "id": "cba90cde",
   "metadata": {
    "scrolled": true
   },
   "outputs": [
    {
     "data": {
      "text/html": [
       "<table class=\"dataframe\">\n",
       "<caption>A data.frame: 400 × 4</caption>\n",
       "<thead>\n",
       "\t<tr><th scope=col>BARCODE</th><th scope=col>SNG.BEST.GUESS</th><th scope=col>DROPLET.TYPE</th><th scope=col>TRUTH</th></tr>\n",
       "\t<tr><th scope=col>&lt;chr&gt;</th><th scope=col>&lt;int&gt;</th><th scope=col>&lt;chr&gt;</th><th scope=col>&lt;chr&gt;</th></tr>\n",
       "</thead>\n",
       "<tbody>\n",
       "\t<tr><td>AAACGGGTCGGTGTCG-1</td><td>0</td><td>SNG</td><td>Nivo</td></tr>\n",
       "\t<tr><td>AAAGTAGCACCTATCC-1</td><td>1</td><td>SNG</td><td>Ipi </td></tr>\n",
       "\t<tr><td>AACACGTCATCACGAT-1</td><td>1</td><td>SNG</td><td>Ipi </td></tr>\n",
       "\t<tr><td>AACCATGAGACTTTCG-1</td><td>1</td><td>SNG</td><td>Ipi </td></tr>\n",
       "\t<tr><td>AACCGCGTCCACGACG-1</td><td>1</td><td>SNG</td><td>Ipi </td></tr>\n",
       "\t<tr><td>AACTCAGCAACACCTA-1</td><td>0</td><td>SNG</td><td>Nivo</td></tr>\n",
       "\t<tr><td>AACTCTTAGGAGTAGA-1</td><td>1</td><td>SNG</td><td>Ipi </td></tr>\n",
       "\t<tr><td>AACTCTTTCAATCACG-1</td><td>1</td><td>SNG</td><td>Ipi </td></tr>\n",
       "\t<tr><td>AACTCTTTCAGGTTCA-1</td><td>1</td><td>SNG</td><td>Ipi </td></tr>\n",
       "\t<tr><td>AACTGGTAGAAACCAT-1</td><td>0</td><td>SNG</td><td>Nivo</td></tr>\n",
       "\t<tr><td>AACTGGTGTACTCTCC-1</td><td>1</td><td>SNG</td><td>Ipi </td></tr>\n",
       "\t<tr><td>AACTTTCTCTGAGTGT-1</td><td>1</td><td>SNG</td><td>Ipi </td></tr>\n",
       "\t<tr><td>AAGACCTAGAAACCAT-1</td><td>1</td><td>SNG</td><td>Ipi </td></tr>\n",
       "\t<tr><td>AAGGCAGTCCTCAACC-1</td><td>1</td><td>SNG</td><td>Ipi </td></tr>\n",
       "\t<tr><td>AAGGTTCGTTCCTCCA-1</td><td>0</td><td>SNG</td><td>Nivo</td></tr>\n",
       "\t<tr><td>AATCCAGCAGCGTAAG-1</td><td>0</td><td>SNG</td><td>Nivo</td></tr>\n",
       "\t<tr><td>AATCCAGTCGCTAGCG-1</td><td>1</td><td>SNG</td><td>Nivo</td></tr>\n",
       "\t<tr><td>AATCGGTTCATCTGCC-1</td><td>1</td><td>SNG</td><td>Nivo</td></tr>\n",
       "\t<tr><td>ACACCAACAGGCGATA-1</td><td>0</td><td>SNG</td><td>Nivo</td></tr>\n",
       "\t<tr><td>ACACCCTTCCTTTCGG-1</td><td>1</td><td>SNG</td><td>Ipi </td></tr>\n",
       "\t<tr><td>ACACCGGGTCTCGTTC-1</td><td>1</td><td>SNG</td><td>Ipi </td></tr>\n",
       "\t<tr><td>ACACTGATCACGGTTA-1</td><td>0</td><td>SNG</td><td>Nivo</td></tr>\n",
       "\t<tr><td>ACAGCTATCTATCCTA-1</td><td>1</td><td>SNG</td><td>Ipi </td></tr>\n",
       "\t<tr><td>ACATACGTCACAAACC-1</td><td>1</td><td>SNG</td><td>Ipi </td></tr>\n",
       "\t<tr><td>ACCAGTATCTGGAGCC-1</td><td>0</td><td>SNG</td><td>Nivo</td></tr>\n",
       "\t<tr><td>ACCCACTAGAATGTGT-1</td><td>0</td><td>SNG</td><td>Nivo</td></tr>\n",
       "\t<tr><td>ACCCACTCATCATCCC-1</td><td>0</td><td>SNG</td><td>Nivo</td></tr>\n",
       "\t<tr><td>ACCGTAAGTACCGAGA-1</td><td>0</td><td>SNG</td><td>Nivo</td></tr>\n",
       "\t<tr><td>ACGAGCCGTCACAAGG-1</td><td>0</td><td>SNG</td><td>Nivo</td></tr>\n",
       "\t<tr><td>ACGAGGATCCTACAGA-1</td><td>0</td><td>SNG</td><td>Nivo</td></tr>\n",
       "\t<tr><td>⋮</td><td>⋮</td><td>⋮</td><td>⋮</td></tr>\n",
       "\t<tr><td>TTAGGACAGAGACTAT-1</td><td>0</td><td>SNG</td><td>Nivo</td></tr>\n",
       "\t<tr><td>TTAGGACCACATGGGA-1</td><td>0</td><td>SNG</td><td>Nivo</td></tr>\n",
       "\t<tr><td>TTAGGACCAGTAAGCG-1</td><td>0</td><td>SNG</td><td>Nivo</td></tr>\n",
       "\t<tr><td>TTAGGACCATCAGTCA-1</td><td>0</td><td>SNG</td><td>Nivo</td></tr>\n",
       "\t<tr><td>TTAGTTCCATAGAAAC-1</td><td>0</td><td>SNG</td><td>Nivo</td></tr>\n",
       "\t<tr><td>TTATGCTCAGTAAGAT-1</td><td>1</td><td>SNG</td><td>Ipi </td></tr>\n",
       "\t<tr><td>TTCCCAGAGTGAAGTT-1</td><td>1</td><td>SNG</td><td>Ipi </td></tr>\n",
       "\t<tr><td>TTCCCAGCAGGTGCCT-1</td><td>1</td><td>SNG</td><td>Ipi </td></tr>\n",
       "\t<tr><td>TTCGAAGAGGCACATG-1</td><td>1</td><td>SNG</td><td>Ipi </td></tr>\n",
       "\t<tr><td>TTCGGTCGTATGAATG-1</td><td>0</td><td>SNG</td><td>Nivo</td></tr>\n",
       "\t<tr><td>TTCTACAGTCGAGATG-1</td><td>1</td><td>SNG</td><td>Ipi </td></tr>\n",
       "\t<tr><td>TTCTACATCTTAACCT-1</td><td>0</td><td>SNG</td><td>Nivo</td></tr>\n",
       "\t<tr><td>TTCTCCTGTGCTAGCC-1</td><td>1</td><td>SNG</td><td>Ipi </td></tr>\n",
       "\t<tr><td>TTCTCCTTCCAAACAC-1</td><td>1</td><td>SNG</td><td>Ipi </td></tr>\n",
       "\t<tr><td>TTCTTAGCAGCGTCCA-1</td><td>0</td><td>SNG</td><td>Ipi </td></tr>\n",
       "\t<tr><td>TTGAACGCATACCATG-1</td><td>1</td><td>SNG</td><td>Ipi </td></tr>\n",
       "\t<tr><td>TTGACTTAGGTGCACA-1</td><td>0</td><td>SNG</td><td>Nivo</td></tr>\n",
       "\t<tr><td>TTGACTTTCCTTGGTC-1</td><td>0</td><td>SNG</td><td>Nivo</td></tr>\n",
       "\t<tr><td>TTGACTTTCTAGAGTC-1</td><td>0</td><td>SNG</td><td>Nivo</td></tr>\n",
       "\t<tr><td>TTGCCGTTCATCGATG-1</td><td>0</td><td>SNG</td><td>Nivo</td></tr>\n",
       "\t<tr><td>TTGCGTCAGGAGTTTA-1</td><td>0</td><td>SNG</td><td>Nivo</td></tr>\n",
       "\t<tr><td>TTGCGTCTCAACCAAC-1</td><td>0</td><td>SNG</td><td>Nivo</td></tr>\n",
       "\t<tr><td>TTGGCAAAGCAATATG-1</td><td>1</td><td>SNG</td><td>Ipi </td></tr>\n",
       "\t<tr><td>TTGGCAATCAGCTTAG-1</td><td>0</td><td>SNG</td><td>Nivo</td></tr>\n",
       "\t<tr><td>TTGTAGGCAGCGAACA-1</td><td>1</td><td>SNG</td><td>Ipi </td></tr>\n",
       "\t<tr><td>TTTACTGAGAGGTACC-1</td><td>0</td><td>SNG</td><td>Nivo</td></tr>\n",
       "\t<tr><td>TTTACTGCAGGGATTG-1</td><td>1</td><td>SNG</td><td>Ipi </td></tr>\n",
       "\t<tr><td>TTTCCTCGTTCAGCGC-1</td><td>0</td><td>SNG</td><td>Nivo</td></tr>\n",
       "\t<tr><td>TTTGGTTCAAATCCGT-1</td><td>0</td><td>SNG</td><td>Nivo</td></tr>\n",
       "\t<tr><td>TTTGTCACAGATGAGC-1</td><td>1</td><td>SNG</td><td>Ipi </td></tr>\n",
       "</tbody>\n",
       "</table>\n"
      ],
      "text/latex": [
       "A data.frame: 400 × 4\n",
       "\\begin{tabular}{llll}\n",
       " BARCODE & SNG.BEST.GUESS & DROPLET.TYPE & TRUTH\\\\\n",
       " <chr> & <int> & <chr> & <chr>\\\\\n",
       "\\hline\n",
       "\t AAACGGGTCGGTGTCG-1 & 0 & SNG & Nivo\\\\\n",
       "\t AAAGTAGCACCTATCC-1 & 1 & SNG & Ipi \\\\\n",
       "\t AACACGTCATCACGAT-1 & 1 & SNG & Ipi \\\\\n",
       "\t AACCATGAGACTTTCG-1 & 1 & SNG & Ipi \\\\\n",
       "\t AACCGCGTCCACGACG-1 & 1 & SNG & Ipi \\\\\n",
       "\t AACTCAGCAACACCTA-1 & 0 & SNG & Nivo\\\\\n",
       "\t AACTCTTAGGAGTAGA-1 & 1 & SNG & Ipi \\\\\n",
       "\t AACTCTTTCAATCACG-1 & 1 & SNG & Ipi \\\\\n",
       "\t AACTCTTTCAGGTTCA-1 & 1 & SNG & Ipi \\\\\n",
       "\t AACTGGTAGAAACCAT-1 & 0 & SNG & Nivo\\\\\n",
       "\t AACTGGTGTACTCTCC-1 & 1 & SNG & Ipi \\\\\n",
       "\t AACTTTCTCTGAGTGT-1 & 1 & SNG & Ipi \\\\\n",
       "\t AAGACCTAGAAACCAT-1 & 1 & SNG & Ipi \\\\\n",
       "\t AAGGCAGTCCTCAACC-1 & 1 & SNG & Ipi \\\\\n",
       "\t AAGGTTCGTTCCTCCA-1 & 0 & SNG & Nivo\\\\\n",
       "\t AATCCAGCAGCGTAAG-1 & 0 & SNG & Nivo\\\\\n",
       "\t AATCCAGTCGCTAGCG-1 & 1 & SNG & Nivo\\\\\n",
       "\t AATCGGTTCATCTGCC-1 & 1 & SNG & Nivo\\\\\n",
       "\t ACACCAACAGGCGATA-1 & 0 & SNG & Nivo\\\\\n",
       "\t ACACCCTTCCTTTCGG-1 & 1 & SNG & Ipi \\\\\n",
       "\t ACACCGGGTCTCGTTC-1 & 1 & SNG & Ipi \\\\\n",
       "\t ACACTGATCACGGTTA-1 & 0 & SNG & Nivo\\\\\n",
       "\t ACAGCTATCTATCCTA-1 & 1 & SNG & Ipi \\\\\n",
       "\t ACATACGTCACAAACC-1 & 1 & SNG & Ipi \\\\\n",
       "\t ACCAGTATCTGGAGCC-1 & 0 & SNG & Nivo\\\\\n",
       "\t ACCCACTAGAATGTGT-1 & 0 & SNG & Nivo\\\\\n",
       "\t ACCCACTCATCATCCC-1 & 0 & SNG & Nivo\\\\\n",
       "\t ACCGTAAGTACCGAGA-1 & 0 & SNG & Nivo\\\\\n",
       "\t ACGAGCCGTCACAAGG-1 & 0 & SNG & Nivo\\\\\n",
       "\t ACGAGGATCCTACAGA-1 & 0 & SNG & Nivo\\\\\n",
       "\t ⋮ & ⋮ & ⋮ & ⋮\\\\\n",
       "\t TTAGGACAGAGACTAT-1 & 0 & SNG & Nivo\\\\\n",
       "\t TTAGGACCACATGGGA-1 & 0 & SNG & Nivo\\\\\n",
       "\t TTAGGACCAGTAAGCG-1 & 0 & SNG & Nivo\\\\\n",
       "\t TTAGGACCATCAGTCA-1 & 0 & SNG & Nivo\\\\\n",
       "\t TTAGTTCCATAGAAAC-1 & 0 & SNG & Nivo\\\\\n",
       "\t TTATGCTCAGTAAGAT-1 & 1 & SNG & Ipi \\\\\n",
       "\t TTCCCAGAGTGAAGTT-1 & 1 & SNG & Ipi \\\\\n",
       "\t TTCCCAGCAGGTGCCT-1 & 1 & SNG & Ipi \\\\\n",
       "\t TTCGAAGAGGCACATG-1 & 1 & SNG & Ipi \\\\\n",
       "\t TTCGGTCGTATGAATG-1 & 0 & SNG & Nivo\\\\\n",
       "\t TTCTACAGTCGAGATG-1 & 1 & SNG & Ipi \\\\\n",
       "\t TTCTACATCTTAACCT-1 & 0 & SNG & Nivo\\\\\n",
       "\t TTCTCCTGTGCTAGCC-1 & 1 & SNG & Ipi \\\\\n",
       "\t TTCTCCTTCCAAACAC-1 & 1 & SNG & Ipi \\\\\n",
       "\t TTCTTAGCAGCGTCCA-1 & 0 & SNG & Ipi \\\\\n",
       "\t TTGAACGCATACCATG-1 & 1 & SNG & Ipi \\\\\n",
       "\t TTGACTTAGGTGCACA-1 & 0 & SNG & Nivo\\\\\n",
       "\t TTGACTTTCCTTGGTC-1 & 0 & SNG & Nivo\\\\\n",
       "\t TTGACTTTCTAGAGTC-1 & 0 & SNG & Nivo\\\\\n",
       "\t TTGCCGTTCATCGATG-1 & 0 & SNG & Nivo\\\\\n",
       "\t TTGCGTCAGGAGTTTA-1 & 0 & SNG & Nivo\\\\\n",
       "\t TTGCGTCTCAACCAAC-1 & 0 & SNG & Nivo\\\\\n",
       "\t TTGGCAAAGCAATATG-1 & 1 & SNG & Ipi \\\\\n",
       "\t TTGGCAATCAGCTTAG-1 & 0 & SNG & Nivo\\\\\n",
       "\t TTGTAGGCAGCGAACA-1 & 1 & SNG & Ipi \\\\\n",
       "\t TTTACTGAGAGGTACC-1 & 0 & SNG & Nivo\\\\\n",
       "\t TTTACTGCAGGGATTG-1 & 1 & SNG & Ipi \\\\\n",
       "\t TTTCCTCGTTCAGCGC-1 & 0 & SNG & Nivo\\\\\n",
       "\t TTTGGTTCAAATCCGT-1 & 0 & SNG & Nivo\\\\\n",
       "\t TTTGTCACAGATGAGC-1 & 1 & SNG & Ipi \\\\\n",
       "\\end{tabular}\n"
      ],
      "text/markdown": [
       "\n",
       "A data.frame: 400 × 4\n",
       "\n",
       "| BARCODE &lt;chr&gt; | SNG.BEST.GUESS &lt;int&gt; | DROPLET.TYPE &lt;chr&gt; | TRUTH &lt;chr&gt; |\n",
       "|---|---|---|---|\n",
       "| AAACGGGTCGGTGTCG-1 | 0 | SNG | Nivo |\n",
       "| AAAGTAGCACCTATCC-1 | 1 | SNG | Ipi  |\n",
       "| AACACGTCATCACGAT-1 | 1 | SNG | Ipi  |\n",
       "| AACCATGAGACTTTCG-1 | 1 | SNG | Ipi  |\n",
       "| AACCGCGTCCACGACG-1 | 1 | SNG | Ipi  |\n",
       "| AACTCAGCAACACCTA-1 | 0 | SNG | Nivo |\n",
       "| AACTCTTAGGAGTAGA-1 | 1 | SNG | Ipi  |\n",
       "| AACTCTTTCAATCACG-1 | 1 | SNG | Ipi  |\n",
       "| AACTCTTTCAGGTTCA-1 | 1 | SNG | Ipi  |\n",
       "| AACTGGTAGAAACCAT-1 | 0 | SNG | Nivo |\n",
       "| AACTGGTGTACTCTCC-1 | 1 | SNG | Ipi  |\n",
       "| AACTTTCTCTGAGTGT-1 | 1 | SNG | Ipi  |\n",
       "| AAGACCTAGAAACCAT-1 | 1 | SNG | Ipi  |\n",
       "| AAGGCAGTCCTCAACC-1 | 1 | SNG | Ipi  |\n",
       "| AAGGTTCGTTCCTCCA-1 | 0 | SNG | Nivo |\n",
       "| AATCCAGCAGCGTAAG-1 | 0 | SNG | Nivo |\n",
       "| AATCCAGTCGCTAGCG-1 | 1 | SNG | Nivo |\n",
       "| AATCGGTTCATCTGCC-1 | 1 | SNG | Nivo |\n",
       "| ACACCAACAGGCGATA-1 | 0 | SNG | Nivo |\n",
       "| ACACCCTTCCTTTCGG-1 | 1 | SNG | Ipi  |\n",
       "| ACACCGGGTCTCGTTC-1 | 1 | SNG | Ipi  |\n",
       "| ACACTGATCACGGTTA-1 | 0 | SNG | Nivo |\n",
       "| ACAGCTATCTATCCTA-1 | 1 | SNG | Ipi  |\n",
       "| ACATACGTCACAAACC-1 | 1 | SNG | Ipi  |\n",
       "| ACCAGTATCTGGAGCC-1 | 0 | SNG | Nivo |\n",
       "| ACCCACTAGAATGTGT-1 | 0 | SNG | Nivo |\n",
       "| ACCCACTCATCATCCC-1 | 0 | SNG | Nivo |\n",
       "| ACCGTAAGTACCGAGA-1 | 0 | SNG | Nivo |\n",
       "| ACGAGCCGTCACAAGG-1 | 0 | SNG | Nivo |\n",
       "| ACGAGGATCCTACAGA-1 | 0 | SNG | Nivo |\n",
       "| ⋮ | ⋮ | ⋮ | ⋮ |\n",
       "| TTAGGACAGAGACTAT-1 | 0 | SNG | Nivo |\n",
       "| TTAGGACCACATGGGA-1 | 0 | SNG | Nivo |\n",
       "| TTAGGACCAGTAAGCG-1 | 0 | SNG | Nivo |\n",
       "| TTAGGACCATCAGTCA-1 | 0 | SNG | Nivo |\n",
       "| TTAGTTCCATAGAAAC-1 | 0 | SNG | Nivo |\n",
       "| TTATGCTCAGTAAGAT-1 | 1 | SNG | Ipi  |\n",
       "| TTCCCAGAGTGAAGTT-1 | 1 | SNG | Ipi  |\n",
       "| TTCCCAGCAGGTGCCT-1 | 1 | SNG | Ipi  |\n",
       "| TTCGAAGAGGCACATG-1 | 1 | SNG | Ipi  |\n",
       "| TTCGGTCGTATGAATG-1 | 0 | SNG | Nivo |\n",
       "| TTCTACAGTCGAGATG-1 | 1 | SNG | Ipi  |\n",
       "| TTCTACATCTTAACCT-1 | 0 | SNG | Nivo |\n",
       "| TTCTCCTGTGCTAGCC-1 | 1 | SNG | Ipi  |\n",
       "| TTCTCCTTCCAAACAC-1 | 1 | SNG | Ipi  |\n",
       "| TTCTTAGCAGCGTCCA-1 | 0 | SNG | Ipi  |\n",
       "| TTGAACGCATACCATG-1 | 1 | SNG | Ipi  |\n",
       "| TTGACTTAGGTGCACA-1 | 0 | SNG | Nivo |\n",
       "| TTGACTTTCCTTGGTC-1 | 0 | SNG | Nivo |\n",
       "| TTGACTTTCTAGAGTC-1 | 0 | SNG | Nivo |\n",
       "| TTGCCGTTCATCGATG-1 | 0 | SNG | Nivo |\n",
       "| TTGCGTCAGGAGTTTA-1 | 0 | SNG | Nivo |\n",
       "| TTGCGTCTCAACCAAC-1 | 0 | SNG | Nivo |\n",
       "| TTGGCAAAGCAATATG-1 | 1 | SNG | Ipi  |\n",
       "| TTGGCAATCAGCTTAG-1 | 0 | SNG | Nivo |\n",
       "| TTGTAGGCAGCGAACA-1 | 1 | SNG | Ipi  |\n",
       "| TTTACTGAGAGGTACC-1 | 0 | SNG | Nivo |\n",
       "| TTTACTGCAGGGATTG-1 | 1 | SNG | Ipi  |\n",
       "| TTTCCTCGTTCAGCGC-1 | 0 | SNG | Nivo |\n",
       "| TTTGGTTCAAATCCGT-1 | 0 | SNG | Nivo |\n",
       "| TTTGTCACAGATGAGC-1 | 1 | SNG | Ipi  |\n",
       "\n"
      ],
      "text/plain": [
       "    BARCODE            SNG.BEST.GUESS DROPLET.TYPE TRUTH\n",
       "1   AAACGGGTCGGTGTCG-1 0              SNG          Nivo \n",
       "2   AAAGTAGCACCTATCC-1 1              SNG          Ipi  \n",
       "3   AACACGTCATCACGAT-1 1              SNG          Ipi  \n",
       "4   AACCATGAGACTTTCG-1 1              SNG          Ipi  \n",
       "5   AACCGCGTCCACGACG-1 1              SNG          Ipi  \n",
       "6   AACTCAGCAACACCTA-1 0              SNG          Nivo \n",
       "7   AACTCTTAGGAGTAGA-1 1              SNG          Ipi  \n",
       "8   AACTCTTTCAATCACG-1 1              SNG          Ipi  \n",
       "9   AACTCTTTCAGGTTCA-1 1              SNG          Ipi  \n",
       "10  AACTGGTAGAAACCAT-1 0              SNG          Nivo \n",
       "11  AACTGGTGTACTCTCC-1 1              SNG          Ipi  \n",
       "12  AACTTTCTCTGAGTGT-1 1              SNG          Ipi  \n",
       "13  AAGACCTAGAAACCAT-1 1              SNG          Ipi  \n",
       "14  AAGGCAGTCCTCAACC-1 1              SNG          Ipi  \n",
       "15  AAGGTTCGTTCCTCCA-1 0              SNG          Nivo \n",
       "16  AATCCAGCAGCGTAAG-1 0              SNG          Nivo \n",
       "17  AATCCAGTCGCTAGCG-1 1              SNG          Nivo \n",
       "18  AATCGGTTCATCTGCC-1 1              SNG          Nivo \n",
       "19  ACACCAACAGGCGATA-1 0              SNG          Nivo \n",
       "20  ACACCCTTCCTTTCGG-1 1              SNG          Ipi  \n",
       "21  ACACCGGGTCTCGTTC-1 1              SNG          Ipi  \n",
       "22  ACACTGATCACGGTTA-1 0              SNG          Nivo \n",
       "23  ACAGCTATCTATCCTA-1 1              SNG          Ipi  \n",
       "24  ACATACGTCACAAACC-1 1              SNG          Ipi  \n",
       "25  ACCAGTATCTGGAGCC-1 0              SNG          Nivo \n",
       "26  ACCCACTAGAATGTGT-1 0              SNG          Nivo \n",
       "27  ACCCACTCATCATCCC-1 0              SNG          Nivo \n",
       "28  ACCGTAAGTACCGAGA-1 0              SNG          Nivo \n",
       "29  ACGAGCCGTCACAAGG-1 0              SNG          Nivo \n",
       "30  ACGAGGATCCTACAGA-1 0              SNG          Nivo \n",
       "⋮   ⋮                  ⋮              ⋮            ⋮    \n",
       "371 TTAGGACAGAGACTAT-1 0              SNG          Nivo \n",
       "372 TTAGGACCACATGGGA-1 0              SNG          Nivo \n",
       "373 TTAGGACCAGTAAGCG-1 0              SNG          Nivo \n",
       "374 TTAGGACCATCAGTCA-1 0              SNG          Nivo \n",
       "375 TTAGTTCCATAGAAAC-1 0              SNG          Nivo \n",
       "376 TTATGCTCAGTAAGAT-1 1              SNG          Ipi  \n",
       "377 TTCCCAGAGTGAAGTT-1 1              SNG          Ipi  \n",
       "378 TTCCCAGCAGGTGCCT-1 1              SNG          Ipi  \n",
       "379 TTCGAAGAGGCACATG-1 1              SNG          Ipi  \n",
       "380 TTCGGTCGTATGAATG-1 0              SNG          Nivo \n",
       "381 TTCTACAGTCGAGATG-1 1              SNG          Ipi  \n",
       "382 TTCTACATCTTAACCT-1 0              SNG          Nivo \n",
       "383 TTCTCCTGTGCTAGCC-1 1              SNG          Ipi  \n",
       "384 TTCTCCTTCCAAACAC-1 1              SNG          Ipi  \n",
       "385 TTCTTAGCAGCGTCCA-1 0              SNG          Ipi  \n",
       "386 TTGAACGCATACCATG-1 1              SNG          Ipi  \n",
       "387 TTGACTTAGGTGCACA-1 0              SNG          Nivo \n",
       "388 TTGACTTTCCTTGGTC-1 0              SNG          Nivo \n",
       "389 TTGACTTTCTAGAGTC-1 0              SNG          Nivo \n",
       "390 TTGCCGTTCATCGATG-1 0              SNG          Nivo \n",
       "391 TTGCGTCAGGAGTTTA-1 0              SNG          Nivo \n",
       "392 TTGCGTCTCAACCAAC-1 0              SNG          Nivo \n",
       "393 TTGGCAAAGCAATATG-1 1              SNG          Ipi  \n",
       "394 TTGGCAATCAGCTTAG-1 0              SNG          Nivo \n",
       "395 TTGTAGGCAGCGAACA-1 1              SNG          Ipi  \n",
       "396 TTTACTGAGAGGTACC-1 0              SNG          Nivo \n",
       "397 TTTACTGCAGGGATTG-1 1              SNG          Ipi  \n",
       "398 TTTCCTCGTTCAGCGC-1 0              SNG          Nivo \n",
       "399 TTTGGTTCAAATCCGT-1 0              SNG          Nivo \n",
       "400 TTTGTCACAGATGAGC-1 1              SNG          Ipi  "
      ]
     },
     "metadata": {},
     "output_type": "display_data"
    }
   ],
   "source": [
    "merged_freemux"
   ]
  },
  {
   "cell_type": "code",
   "execution_count": 19,
   "id": "182cdb3c",
   "metadata": {},
   "outputs": [
    {
     "data": {
      "text/plain": [
       "\n",
       "  0   1 \n",
       "196   4 "
      ]
     },
     "metadata": {},
     "output_type": "display_data"
    }
   ],
   "source": [
    "table(merged_freemux[merged_freemux$TRUTH==\"Nivo\",]$SNG.BEST.GUESS)"
   ]
  },
  {
   "cell_type": "code",
   "execution_count": 20,
   "id": "8ed92b33",
   "metadata": {},
   "outputs": [
    {
     "data": {
      "text/plain": [
       "\n",
       "  0   1 \n",
       "  8 192 "
      ]
     },
     "metadata": {},
     "output_type": "display_data"
    }
   ],
   "source": [
    "table(merged_freemux[merged_freemux$TRUTH==\"Ipi\",]$SNG.BEST.GUESS)"
   ]
  },
  {
   "cell_type": "code",
   "execution_count": 23,
   "id": "609d1f38",
   "metadata": {},
   "outputs": [],
   "source": [
    "merged_freemux$ground<-ifelse(merged_freemux$TRUTH==\"Ipi\",1,0)"
   ]
  },
  {
   "cell_type": "code",
   "execution_count": 24,
   "id": "969c394e",
   "metadata": {},
   "outputs": [],
   "source": [
    "merged_freemux$ground<-as.factor(merged_freemux$ground)\n",
    "merged_freemux$SNG.BEST.GUESS<-as.factor(merged_freemux$SNG.BEST.GUESS)"
   ]
  },
  {
   "cell_type": "code",
   "execution_count": 26,
   "id": "ad9c5eee",
   "metadata": {},
   "outputs": [
    {
     "data": {
      "text/plain": [
       "Confusion Matrix and Statistics\n",
       "\n",
       "          Reference\n",
       "Prediction   0   1\n",
       "         0 196   8\n",
       "         1   4 192\n",
       "                                          \n",
       "               Accuracy : 0.97            \n",
       "                 95% CI : (0.9482, 0.9844)\n",
       "    No Information Rate : 0.5             \n",
       "    P-Value [Acc > NIR] : <2e-16          \n",
       "                                          \n",
       "                  Kappa : 0.94            \n",
       "                                          \n",
       " Mcnemar's Test P-Value : 0.3865          \n",
       "                                          \n",
       "            Sensitivity : 0.9600          \n",
       "            Specificity : 0.9800          \n",
       "         Pos Pred Value : 0.9796          \n",
       "         Neg Pred Value : 0.9608          \n",
       "              Precision : 0.9796          \n",
       "                 Recall : 0.9600          \n",
       "                     F1 : 0.9697          \n",
       "             Prevalence : 0.5000          \n",
       "         Detection Rate : 0.4800          \n",
       "   Detection Prevalence : 0.4900          \n",
       "      Balanced Accuracy : 0.9700          \n",
       "                                          \n",
       "       'Positive' Class : 1               \n",
       "                                          "
      ]
     },
     "metadata": {},
     "output_type": "display_data"
    }
   ],
   "source": [
    "library(caret)\n",
    "confusionMatrix(merged_freemux$SNG.BEST.GUESS,merged_freemux$ground,mode=\"everything\",positive=\"1\")"
   ]
  },
  {
   "cell_type": "code",
   "execution_count": null,
   "id": "0953b624",
   "metadata": {},
   "outputs": [],
   "source": [
    "|"
   ]
  }
 ],
 "metadata": {
  "kernelspec": {
   "display_name": "R",
   "language": "R",
   "name": "ir"
  },
  "language_info": {
   "codemirror_mode": "r",
   "file_extension": ".r",
   "mimetype": "text/x-r-source",
   "name": "R",
   "pygments_lexer": "r",
   "version": "4.3.1"
  }
 },
 "nbformat": 4,
 "nbformat_minor": 5
}
